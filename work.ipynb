{
 "cells": [
  {
   "cell_type": "markdown",
   "metadata": {},
   "source": [
    "# Simulando uma ligação para o Call Center da Quantum Finance, um projeto de FinTech da FIAP\n",
    "\n",
    "## Detalhamento dos requisitos"
   ]
  },
  {
   "cell_type": "markdown",
   "metadata": {},
   "source": [
    "Gerar as frases para simular um atendimento telefônico, que deverá *identificar* a empresa, *saudar* o cliente e *oferecer* as opções a seguir: \n",
    "- (1) Consulta ao saldo da conta;\n",
    "- (2) Simulação de compra internacional;\n",
    "- (3) Falar com um atendente;\n",
    "- (4) Sair do atendimento.\n",
    "\n",
    "As frases devem ser geradas usando alguma das bibliotecas de TTS disponíveis, e armazenadas em arquivo para serem usadas dentro do loop. \n",
    "Gerar também as frases de resposta correspondentes para confirmar a identificação\n",
    "de cada opção. \n",
    "Por exemplo: “Você escolheu ‘’Falar com um atendente’’.”"
   ]
  },
  {
   "cell_type": "code",
   "execution_count": 1,
   "metadata": {},
   "outputs": [],
   "source": [
    "import io\n",
    "import speech_recognition as SpeechRec\n",
    "import unicodedata\n",
    "import simpleaudio as sa\n",
    "\n",
    "from pydub import AudioSegment\n",
    "from gtts import gTTS\n",
    "from IPython.display import Audio"
   ]
  },
  {
   "cell_type": "code",
   "execution_count": 2,
   "metadata": {},
   "outputs": [],
   "source": [
    "script_texts = {\n",
    "    \"saudacao\": \"Olá, você ligou para Quantum Finance, onde quantu mais você investe, melhor!\",\n",
    "    \"opcoes\": \"Escolha entre as seguinte opções:\\n\\nOpção 1, Consulta ao saldo da conta;\\nOpção 2, Simulação de compra internacional;\\nOpção 3, Falar com um atendente;\\nOpção 4, Sair do atendimento.\\n\",\n",
    "    \"opcao1_resposta\": \"Você escolheu: Opção 1, Consulta ao saldo da conta;\",\n",
    "    \"opcao2_resposta\": \"Você escolheu: Opção 2, Simulação de compra internacional;\",\n",
    "    \"opcao3_resposta\": \"Você escolheu: Opção 3, Falar com um atendente;\",\n",
    "    \"opcao4_resposta\": \"Você escolheu: Opção 4, Sair do atendimento.\",\n",
    "    \"nao_encontrada\": \"Não entendi o que falou, vou repetir as opções:\",\n",
    "}"
   ]
  },
  {
   "cell_type": "code",
   "execution_count": 3,
   "metadata": {},
   "outputs": [],
   "source": [
    "saveOn = './files'\n",
    "\n",
    "for title in script_texts:\n",
    "    newAudio = gTTS(script_texts[title], lang='pt')\n",
    "    newAudio.save(f\"{saveOn}/stage/{title}.mp3\")\n",
    "\n",
    "    # Convert to WAV\n",
    "    audio = AudioSegment.from_mp3(f\"{saveOn}/stage/{title}.mp3\")\n",
    "    audio.export(f\"{saveOn}/{title}.wav\", format=\"wav\")"
   ]
  },
  {
   "cell_type": "markdown",
   "metadata": {},
   "source": [
    "Construir um loop que, uma vez iniciado, irá executar os áudios iniciais com as opções. Dentro do loop, o algoritmo\n",
    "deverá capturar o áudio do usuário usando alguma das **bibliotecas de STT** e tentar identificar a opção selecionada.\n",
    "Não é necessário usar nada avançado, uma busca por palavra-chave simples é suficiente.\n",
    "Uma vez que a opção seja identificada, o áudio de resposta correspondente deverá ser tocado."
   ]
  },
  {
   "cell_type": "code",
   "execution_count": 4,
   "metadata": {},
   "outputs": [
    {
     "name": "stdout",
     "output_type": "stream",
     "text": [
      "Microphone with name \"NDI Audio\" found for `Microphone(device_index=0)`\n",
      "Microphone with name \"External Microphone\" found for `Microphone(device_index=1)`\n",
      "Microphone with name \"External Headphones\" found for `Microphone(device_index=2)`\n",
      "Microphone with name \"MacBook Air Microphone\" found for `Microphone(device_index=3)`\n",
      "Microphone with name \"MacBook Air Speakers\" found for `Microphone(device_index=4)`\n",
      "Microphone with name \"Microsoft Teams Audio\" found for `Microphone(device_index=5)`\n",
      "Microphone with name \"NDI Audio\" found for `Microphone(device_index=6)`\n"
     ]
    }
   ],
   "source": [
    "SpeechRec.Microphone.list_working_microphones()\n",
    "\n",
    "for index, name in enumerate(SpeechRec.Microphone.list_microphone_names()):\n",
    "    print(\"Microphone with name \\\"{1}\\\" found for `Microphone(device_index={0})`\".format(index, name))\n",
    "\n",
    "recognizer = SpeechRec.Recognizer()"
   ]
  },
  {
   "cell_type": "code",
   "execution_count": 5,
   "metadata": {},
   "outputs": [],
   "source": [
    "def normalize(texto):\n",
    "    texto = unicodedata.normalize('NFKD', texto.lower())\n",
    "    return ''.join(c for c in texto if not unicodedata.combining(c))\n",
    "\n",
    "def play_audio(file_path):\n",
    "    wave_obj = sa.WaveObject.from_wave_file(file_path)\n",
    "    play_obj = wave_obj.play()\n",
    "    play_obj.wait_done()\n",
    "\n",
    "def not_founded():\n",
    "    audio_file_path = f'{saveOn}/nao_encontrada.wav'\n",
    "    play_audio(audio_file_path)\n",
    "\n",
    "def select_option(option):\n",
    "    audio_file_path = f'{saveOn}/opcao{option}_resposta.wav'\n",
    "    play_audio(audio_file_path)\n",
    "\n",
    "    print(option)"
   ]
  },
  {
   "cell_type": "code",
   "execution_count": 7,
   "metadata": {},
   "outputs": [
    {
     "name": "stdout",
     "output_type": "stream",
     "text": [
      "Listening...\n",
      "japao\n",
      "Listening...\n",
      "opcao 4\n",
      "4\n"
     ]
    }
   ],
   "source": [
    "input_selected = 1 # Altere aqui para seu microfone\n",
    "in_call = True\n",
    "\n",
    "audio_file_path = f'{saveOn}/saudacao.wav'\n",
    "play_audio(audio_file_path)\n",
    "\n",
    "while in_call:\n",
    "    audio_file_path = f'{saveOn}/opcoes.wav'\n",
    "    play_audio(audio_file_path)\n",
    "    \n",
    "    with SpeechRec.Microphone(input_selected) as inputDevice:\n",
    "        recognizer.adjust_for_ambient_noise(inputDevice,duration=1)\n",
    "        print('Listening...')\n",
    "        audio = recognizer.listen(inputDevice)\n",
    "\n",
    "    try:\n",
    "        text = recognizer.recognize_google(audio, language='pt-BR')\n",
    "        normalized_text = normalize(text)\n",
    "        print(normalized_text)\n",
    "\n",
    "        if normalized_text in normalize(script_texts['opcao1_resposta']):\n",
    "            select_option(1)\n",
    "            in_call = False\n",
    "        elif normalized_text in normalize(script_texts['opcao2_resposta']):\n",
    "            select_option(2)\n",
    "            in_call = False\n",
    "        elif normalized_text in normalize(script_texts['opcao3_resposta']):\n",
    "            select_option(3)\n",
    "            in_call = False\n",
    "        elif normalized_text in normalize(script_texts['opcao4_resposta']):\n",
    "            select_option(4)\n",
    "            in_call = False\n",
    "        else:\n",
    "            not_founded()\n",
    "    except SpeechRec.UnknownValueError:\n",
    "        print(\"Não consegui entender o áudio\")\n",
    "        not_founded()\n",
    "    except SpeechRec.RequestError as e:\n",
    "        print(f\"Erro ao solicitar resultados do serviço Google Speech Recognition; {e}\")\n",
    "        not_founded()"
   ]
  }
 ],
 "metadata": {
  "kernelspec": {
   "display_name": "audioenv",
   "language": "python",
   "name": "python3"
  },
  "language_info": {
   "codemirror_mode": {
    "name": "ipython",
    "version": 3
   },
   "file_extension": ".py",
   "mimetype": "text/x-python",
   "name": "python",
   "nbconvert_exporter": "python",
   "pygments_lexer": "ipython3",
   "version": "3.11.3"
  }
 },
 "nbformat": 4,
 "nbformat_minor": 2
}
